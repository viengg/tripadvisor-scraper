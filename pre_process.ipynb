{
 "metadata": {
  "language_info": {
   "codemirror_mode": {
    "name": "ipython",
    "version": 3
   },
   "file_extension": ".py",
   "mimetype": "text/x-python",
   "name": "python",
   "nbconvert_exporter": "python",
   "pygments_lexer": "ipython3",
   "version": "3.8.5"
  },
  "orig_nbformat": 2,
  "kernelspec": {
   "name": "python3",
   "display_name": "Python 3.8.5 64-bit",
   "metadata": {
    "interpreter": {
     "hash": "31f2aee4e71d21fbe5cf8b01ff0e069b9275f58929596ceb00d14d90e3e16cd6"
    }
   }
  }
 },
 "nbformat": 4,
 "nbformat_minor": 2,
 "cells": [
  {
   "cell_type": "code",
   "execution_count": 1,
   "metadata": {},
   "outputs": [],
   "source": [
    "import pandas as pd\n",
    "from langdetect import detect"
   ]
  },
  {
   "cell_type": "code",
   "execution_count": 2,
   "metadata": {},
   "outputs": [],
   "source": [
    "op_aval_hotel = pd.read_csv('Ouro Preto/avaliacoes-hoteis.csv').drop_duplicates()\n",
    "op_aval_rest = pd.read_csv('Ouro Preto/avaliacoes-restaurantes.csv')\n",
    "op_aval_rest = op_aval_rest.drop_duplicates(op_aval_rest.columns[:-2])\n",
    "op_aval_atr = pd.read_csv('Ouro Preto/avaliacoes-atracoes.csv').drop_duplicates()\n",
    "\n",
    "mar_aval_hotel = pd.read_csv('Mariana/avaliacoes-hoteis.csv').drop_duplicates()\n",
    "mar_aval_rest = pd.read_csv('Mariana/avaliacoes-restaurantes.csv')\n",
    "mar_aval_rest = mar_aval_rest.drop_duplicates(mar_aval_rest.columns[:-2])\n",
    "mar_aval_atr = pd.read_csv('Mariana/avaliacoes-atracoes.csv').drop_duplicates()"
   ]
  },
  {
   "cell_type": "code",
   "execution_count": 3,
   "metadata": {},
   "outputs": [],
   "source": [
    "op_aval_hotel['idioma'] = op_aval_hotel.apply(lambda row: detect(row['conteudo']), axis=1)\n",
    "op_aval_rest['idioma'] = op_aval_rest.apply(lambda row: detect(row['conteudo']), axis=1)\n",
    "op_aval_atr['idioma'] = op_aval_atr.apply(lambda row: detect(row['conteudo']), axis=1)"
   ]
  },
  {
   "cell_type": "code",
   "execution_count": 4,
   "metadata": {},
   "outputs": [],
   "source": [
    "mar_aval_hotel['idioma'] = mar_aval_hotel.apply(lambda row: detect(row['conteudo']), axis=1)\n",
    "mar_aval_rest['idioma'] = mar_aval_rest.apply(lambda row: detect(row['conteudo']), axis=1)\n",
    "mar_aval_atr['idioma'] = mar_aval_atr.apply(lambda row: detect(row['conteudo']), axis=1)"
   ]
  },
  {
   "cell_type": "code",
   "execution_count": 5,
   "metadata": {},
   "outputs": [],
   "source": [
    "op_aval_hotel.to_csv('Ouro Preto/avaliacoes-hoteis.csv', index=False)\n",
    "op_aval_rest.to_csv('Ouro Preto/avaliacoes-restaurantes.csv', index=False)\n",
    "op_aval_atr.to_csv('Ouro Preto/avaliacoes-atracoes.csv', index=False)\n",
    "\n",
    "mar_aval_hotel.to_csv('Mariana/avaliacoes-hoteis.csv', index=False)\n",
    "mar_aval_rest.to_csv('Mariana/avaliacoes-restaurantes.csv', index=False)\n",
    "mar_aval_atr.to_csv('Mariana/avaliacoes-atracoes.csv', index=False)"
   ]
  },
  {
   "cell_type": "code",
   "execution_count": null,
   "metadata": {},
   "outputs": [],
   "source": []
  }
 ]
}