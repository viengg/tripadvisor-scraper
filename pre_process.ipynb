{
 "metadata": {
  "language_info": {
   "codemirror_mode": {
    "name": "ipython",
    "version": 3
   },
   "file_extension": ".py",
   "mimetype": "text/x-python",
   "name": "python",
   "nbconvert_exporter": "python",
   "pygments_lexer": "ipython3",
   "version": "3.8.5"
  },
  "orig_nbformat": 2,
  "kernelspec": {
   "name": "python3",
   "display_name": "Python 3.8.5 64-bit",
   "metadata": {
    "interpreter": {
     "hash": "31f2aee4e71d21fbe5cf8b01ff0e069b9275f58929596ceb00d14d90e3e16cd6"
    }
   }
  }
 },
 "nbformat": 4,
 "nbformat_minor": 2,
 "cells": [
  {
   "cell_type": "code",
   "execution_count": 1,
   "metadata": {},
   "outputs": [],
   "source": [
    "import pandas as pd\n",
    "from langdetect import detect\n",
    "import os"
   ]
  },
  {
   "cell_type": "code",
   "execution_count": 2,
   "metadata": {},
   "outputs": [],
   "source": [
    "cidades = ['Brumadinho']\n",
    "for cidade in cidades:\n",
    "    aval_hotel = pd.read_csv(os.path.join(cidade, 'avaliacoes-hoteis.csv')).drop_duplicates()\n",
    "    aval_rest = pd.read_csv(os.path.join(cidade, 'avaliacoes-restaurantes.csv'))\n",
    "    aval_rest = aval_rest.drop_duplicates(aval_rest.columns[:-2])\n",
    "    aval_atr = pd.read_csv(os.path.join(cidade, 'avaliacoes-atracoes.csv')).drop_duplicates()\n",
    "\n",
    "    aval_hotel['idioma'] = aval_hotel.apply(lambda row: detect(row['conteudo']), axis=1)\n",
    "    aval_rest['idioma'] = aval_rest.apply(lambda row: detect(row['conteudo']), axis=1)\n",
    "    aval_atr['idioma'] = aval_atr.apply(lambda row: detect(row['conteudo']), axis=1)\n",
    "\n",
    "    aval_hotel.to_csv(os.path.join(cidade, 'avaliacoes-hoteis.csv'), index=False)\n",
    "    aval_rest.to_csv(os.path.join(cidade, 'avaliacoes-restaurantes.csv'), index=False)\n",
    "    aval_atr.to_csv(os.path.join(cidade, 'avaliacoes-atracoes.csv'), index=False)"
   ]
  },
  {
   "cell_type": "code",
   "execution_count": null,
   "metadata": {},
   "outputs": [],
   "source": []
  }
 ]
}